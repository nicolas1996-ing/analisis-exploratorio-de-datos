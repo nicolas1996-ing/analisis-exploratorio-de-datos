{
 "cells": [
  {
   "cell_type": "code",
   "execution_count": 4,
   "id": "e9fef980-3690-4c70-b28d-68242d90b0e9",
   "metadata": {},
   "outputs": [],
   "source": [
    "import pandas as pd\n",
    "import numpy as np\n",
    "import matplotlib.pyplot as plt\n",
    "import seaborn as sbl\n",
    "import re"
   ]
  },
  {
   "cell_type": "code",
   "execution_count": 5,
   "id": "881bff75-d74a-4808-8128-6502284aaba2",
   "metadata": {},
   "outputs": [],
   "source": [
    "data = pd.read_csv('equipos-de-futbol.csv')"
   ]
  },
  {
   "cell_type": "code",
   "execution_count": 6,
   "id": "e295f712-0cf5-4981-adce-86e04b74ceb0",
   "metadata": {},
   "outputs": [
    {
     "name": "stdout",
     "output_type": "stream",
     "text": [
      "                  Club     Competition   Age  Squad_size Market_value  \\\n",
      "0      Manchester City  Premier League  27.2          23      €1.05bn   \n",
      "1  Paris Saint-Germain         Ligue 1  26.1          35     €997.75m   \n",
      "2    Manchester United  Premier League  28.0          28     €937.25m   \n",
      "3           Chelsea FC  Premier League  26.8          27     €882.50m   \n",
      "4         Liverpool FC  Premier League  27.0          27     €879.50m   \n",
      "\n",
      "  Market_value_of_players MV_Top_18_players Share_of_MV  \n",
      "0                 €45.75m          €988.00m      93.9 %  \n",
      "1                 €28.51m          €889.00m      89.1 %  \n",
      "2                 €33.47m          €850.00m      90.7 %  \n",
      "3                 €32.69m          €816.00m      92.5 %  \n",
      "4                 €32.57m          €810.50m      92.2 %  \n"
     ]
    }
   ],
   "source": [
    "print(data.head())"
   ]
  },
  {
   "cell_type": "code",
   "execution_count": 7,
   "id": "66500e3b-9266-4cfc-9d15-eb2980bc7614",
   "metadata": {},
   "outputs": [
    {
     "name": "stdout",
     "output_type": "stream",
     "text": [
      "<class 'pandas.core.frame.DataFrame'>\n",
      "RangeIndex: 100 entries, 0 to 99\n",
      "Data columns (total 8 columns):\n",
      " #   Column                   Non-Null Count  Dtype  \n",
      "---  ------                   --------------  -----  \n",
      " 0   Club                     100 non-null    object \n",
      " 1   Competition              100 non-null    object \n",
      " 2   Age                      100 non-null    float64\n",
      " 3   Squad_size               100 non-null    int64  \n",
      " 4   Market_value             100 non-null    object \n",
      " 5   Market_value_of_players  100 non-null    object \n",
      " 6   MV_Top_18_players        100 non-null    object \n",
      " 7   Share_of_MV              100 non-null    object \n",
      "dtypes: float64(1), int64(1), object(6)\n",
      "memory usage: 6.4+ KB\n",
      "None\n"
     ]
    }
   ],
   "source": [
    "print(data.info())"
   ]
  },
  {
   "cell_type": "code",
   "execution_count": 8,
   "id": "6e7f5752-10c7-4560-9455-4f8ff5fbbc28",
   "metadata": {},
   "outputs": [
    {
     "name": "stdout",
     "output_type": "stream",
     "text": [
      "             Age  Squad_size\n",
      "count  100.00000   100.00000\n",
      "mean    26.30800    27.54000\n",
      "std      1.39499     2.87244\n",
      "min     23.10000    21.00000\n",
      "25%     25.40000    26.00000\n",
      "50%     26.25000    27.00000\n",
      "75%     27.42500    29.00000\n",
      "max     29.90000    35.00000\n"
     ]
    }
   ],
   "source": [
    "print(data.describe())"
   ]
  },
  {
   "cell_type": "code",
   "execution_count": 9,
   "id": "20ad706b-02f6-4c69-9179-02cd294212b8",
   "metadata": {},
   "outputs": [
    {
     "name": "stdout",
     "output_type": "stream",
     "text": [
      "100\n"
     ]
    }
   ],
   "source": [
    "print(len(data))"
   ]
  },
  {
   "cell_type": "code",
   "execution_count": 10,
   "id": "44ee0948-dc46-43d2-83df-1f8bc8845cdf",
   "metadata": {},
   "outputs": [
    {
     "data": {
      "text/html": [
       "<div>\n",
       "<style scoped>\n",
       "    .dataframe tbody tr th:only-of-type {\n",
       "        vertical-align: middle;\n",
       "    }\n",
       "\n",
       "    .dataframe tbody tr th {\n",
       "        vertical-align: top;\n",
       "    }\n",
       "\n",
       "    .dataframe thead th {\n",
       "        text-align: right;\n",
       "    }\n",
       "</style>\n",
       "<table border=\"1\" class=\"dataframe\">\n",
       "  <thead>\n",
       "    <tr style=\"text-align: right;\">\n",
       "      <th></th>\n",
       "      <th>Club</th>\n",
       "      <th>Competition</th>\n",
       "      <th>Age</th>\n",
       "      <th>Squad_size</th>\n",
       "      <th>Market_value</th>\n",
       "      <th>Market_value_of_players</th>\n",
       "      <th>MV_Top_18_players</th>\n",
       "      <th>Share_of_MV</th>\n",
       "    </tr>\n",
       "  </thead>\n",
       "  <tbody>\n",
       "    <tr>\n",
       "      <th>0</th>\n",
       "      <td>Manchester City</td>\n",
       "      <td>Premier League</td>\n",
       "      <td>27.2</td>\n",
       "      <td>23</td>\n",
       "      <td>€1.05bn</td>\n",
       "      <td>€45.75m</td>\n",
       "      <td>€988.00m</td>\n",
       "      <td>93.9 %</td>\n",
       "    </tr>\n",
       "    <tr>\n",
       "      <th>1</th>\n",
       "      <td>Paris Saint-Germain</td>\n",
       "      <td>Ligue 1</td>\n",
       "      <td>26.1</td>\n",
       "      <td>35</td>\n",
       "      <td>€997.75m</td>\n",
       "      <td>€28.51m</td>\n",
       "      <td>€889.00m</td>\n",
       "      <td>89.1 %</td>\n",
       "    </tr>\n",
       "    <tr>\n",
       "      <th>2</th>\n",
       "      <td>Manchester United</td>\n",
       "      <td>Premier League</td>\n",
       "      <td>28.0</td>\n",
       "      <td>28</td>\n",
       "      <td>€937.25m</td>\n",
       "      <td>€33.47m</td>\n",
       "      <td>€850.00m</td>\n",
       "      <td>90.7 %</td>\n",
       "    </tr>\n",
       "    <tr>\n",
       "      <th>3</th>\n",
       "      <td>Chelsea FC</td>\n",
       "      <td>Premier League</td>\n",
       "      <td>26.8</td>\n",
       "      <td>27</td>\n",
       "      <td>€882.50m</td>\n",
       "      <td>€32.69m</td>\n",
       "      <td>€816.00m</td>\n",
       "      <td>92.5 %</td>\n",
       "    </tr>\n",
       "    <tr>\n",
       "      <th>4</th>\n",
       "      <td>Liverpool FC</td>\n",
       "      <td>Premier League</td>\n",
       "      <td>27.0</td>\n",
       "      <td>27</td>\n",
       "      <td>€879.50m</td>\n",
       "      <td>€32.57m</td>\n",
       "      <td>€810.50m</td>\n",
       "      <td>92.2 %</td>\n",
       "    </tr>\n",
       "    <tr>\n",
       "      <th>...</th>\n",
       "      <td>...</td>\n",
       "      <td>...</td>\n",
       "      <td>...</td>\n",
       "      <td>...</td>\n",
       "      <td>...</td>\n",
       "      <td>...</td>\n",
       "      <td>...</td>\n",
       "      <td>...</td>\n",
       "    </tr>\n",
       "    <tr>\n",
       "      <th>95</th>\n",
       "      <td>Clube Atlético Mineiro</td>\n",
       "      <td>Série A</td>\n",
       "      <td>26.9</td>\n",
       "      <td>31</td>\n",
       "      <td>€98.45m</td>\n",
       "      <td>€3.18m</td>\n",
       "      <td>€84.95m</td>\n",
       "      <td>86.3 %</td>\n",
       "    </tr>\n",
       "    <tr>\n",
       "      <th>96</th>\n",
       "      <td>FC Augsburg</td>\n",
       "      <td>Bundesliga</td>\n",
       "      <td>26.1</td>\n",
       "      <td>28</td>\n",
       "      <td>€97.10m</td>\n",
       "      <td>€3.47m</td>\n",
       "      <td>€88.00m</td>\n",
       "      <td>90.6 %</td>\n",
       "    </tr>\n",
       "    <tr>\n",
       "      <th>97</th>\n",
       "      <td>Lokomotiv Moscow</td>\n",
       "      <td>Premier Liga</td>\n",
       "      <td>24.8</td>\n",
       "      <td>29</td>\n",
       "      <td>€97.03m</td>\n",
       "      <td>€3.35m</td>\n",
       "      <td>€86.50m</td>\n",
       "      <td>89.2 %</td>\n",
       "    </tr>\n",
       "    <tr>\n",
       "      <th>98</th>\n",
       "      <td>Trabzonspor</td>\n",
       "      <td>Süper Lig</td>\n",
       "      <td>26.7</td>\n",
       "      <td>29</td>\n",
       "      <td>€96.30m</td>\n",
       "      <td>€3.32m</td>\n",
       "      <td>€89.00m</td>\n",
       "      <td>92.4 %</td>\n",
       "    </tr>\n",
       "    <tr>\n",
       "      <th>99</th>\n",
       "      <td>CA Osasuna</td>\n",
       "      <td>LaLiga</td>\n",
       "      <td>27.7</td>\n",
       "      <td>27</td>\n",
       "      <td>€93.50m</td>\n",
       "      <td>€3.46m</td>\n",
       "      <td>€86.60m</td>\n",
       "      <td>92.6 %</td>\n",
       "    </tr>\n",
       "  </tbody>\n",
       "</table>\n",
       "<p>100 rows × 8 columns</p>\n",
       "</div>"
      ],
      "text/plain": [
       "                      Club     Competition   Age  Squad_size Market_value  \\\n",
       "0          Manchester City  Premier League  27.2          23      €1.05bn   \n",
       "1      Paris Saint-Germain         Ligue 1  26.1          35     €997.75m   \n",
       "2        Manchester United  Premier League  28.0          28     €937.25m   \n",
       "3               Chelsea FC  Premier League  26.8          27     €882.50m   \n",
       "4             Liverpool FC  Premier League  27.0          27     €879.50m   \n",
       "..                     ...             ...   ...         ...          ...   \n",
       "95  Clube Atlético Mineiro         Série A  26.9          31      €98.45m   \n",
       "96             FC Augsburg      Bundesliga  26.1          28      €97.10m   \n",
       "97        Lokomotiv Moscow    Premier Liga  24.8          29      €97.03m   \n",
       "98             Trabzonspor       Süper Lig  26.7          29      €96.30m   \n",
       "99              CA Osasuna          LaLiga  27.7          27      €93.50m   \n",
       "\n",
       "   Market_value_of_players MV_Top_18_players Share_of_MV  \n",
       "0                  €45.75m          €988.00m      93.9 %  \n",
       "1                  €28.51m          €889.00m      89.1 %  \n",
       "2                  €33.47m          €850.00m      90.7 %  \n",
       "3                  €32.69m          €816.00m      92.5 %  \n",
       "4                  €32.57m          €810.50m      92.2 %  \n",
       "..                     ...               ...         ...  \n",
       "95                  €3.18m           €84.95m      86.3 %  \n",
       "96                  €3.47m           €88.00m      90.6 %  \n",
       "97                  €3.35m           €86.50m      89.2 %  \n",
       "98                  €3.32m           €89.00m      92.4 %  \n",
       "99                  €3.46m           €86.60m      92.6 %  \n",
       "\n",
       "[100 rows x 8 columns]"
      ]
     },
     "metadata": {},
     "output_type": "display_data"
    }
   ],
   "source": [
    "display(data)\n",
    "# Market_value = colum_value total de cada plantel \n",
    "# Market_value_of_players = \n",
    "# MV_Top_18_players = colum_value total de los 18 jugadores mas caros \n",
    "# Share_of_MV = cuanto % del total de Market_value_of_players ocupan los 18 jugadores mas caros \n"
   ]
  },
  {
   "cell_type": "markdown",
   "id": "9bbed36d-7ab5-4994-84b9-f3ce56cc9cf0",
   "metadata": {},
   "source": [
    "### Objetivo del análisis \n",
    "Identificar y comprender los factores clave que contribuyen a la alta colum_valueación económica de los 100 clubes de fútbol más valiosos del mundo, explorando la relación entre las ligas a las que pertenecen, la edad promedio de sus planteles, la cantidad de jugadores, el colum_value total del plantel y la concentración del colum_value en sus jugadores más caros, para así desentrañar los patrones que definen a la élite económica del fútbol actual.\n",
    "\n",
    "#### data quality test pyhton \n"
   ]
  },
  {
   "cell_type": "code",
   "execution_count": 11,
   "id": "6f4e2c26-3c4e-4fa4-acc3-cb717bd5b933",
   "metadata": {},
   "outputs": [
    {
     "data": {
      "text/html": [
       "<div>\n",
       "<style scoped>\n",
       "    .dataframe tbody tr th:only-of-type {\n",
       "        vertical-align: middle;\n",
       "    }\n",
       "\n",
       "    .dataframe tbody tr th {\n",
       "        vertical-align: top;\n",
       "    }\n",
       "\n",
       "    .dataframe thead th {\n",
       "        text-align: right;\n",
       "    }\n",
       "</style>\n",
       "<table border=\"1\" class=\"dataframe\">\n",
       "  <thead>\n",
       "    <tr style=\"text-align: right;\">\n",
       "      <th></th>\n",
       "      <th>Club</th>\n",
       "      <th>Competition</th>\n",
       "      <th>Age</th>\n",
       "      <th>Squad_size</th>\n",
       "      <th>Market_value</th>\n",
       "      <th>Market_value_of_players</th>\n",
       "      <th>MV_Top_18_players</th>\n",
       "      <th>Share_of_MV</th>\n",
       "    </tr>\n",
       "  </thead>\n",
       "  <tbody>\n",
       "    <tr>\n",
       "      <th>0</th>\n",
       "      <td>Manchester City</td>\n",
       "      <td>Premier League</td>\n",
       "      <td>27.2</td>\n",
       "      <td>23</td>\n",
       "      <td>€1.05bn</td>\n",
       "      <td>€45.75m</td>\n",
       "      <td>€988.00m</td>\n",
       "      <td>93.9 %</td>\n",
       "    </tr>\n",
       "    <tr>\n",
       "      <th>1</th>\n",
       "      <td>Paris Saint-Germain</td>\n",
       "      <td>Ligue 1</td>\n",
       "      <td>26.1</td>\n",
       "      <td>35</td>\n",
       "      <td>€997.75m</td>\n",
       "      <td>€28.51m</td>\n",
       "      <td>€889.00m</td>\n",
       "      <td>89.1 %</td>\n",
       "    </tr>\n",
       "    <tr>\n",
       "      <th>2</th>\n",
       "      <td>Manchester United</td>\n",
       "      <td>Premier League</td>\n",
       "      <td>28.0</td>\n",
       "      <td>28</td>\n",
       "      <td>€937.25m</td>\n",
       "      <td>€33.47m</td>\n",
       "      <td>€850.00m</td>\n",
       "      <td>90.7 %</td>\n",
       "    </tr>\n",
       "    <tr>\n",
       "      <th>3</th>\n",
       "      <td>Chelsea FC</td>\n",
       "      <td>Premier League</td>\n",
       "      <td>26.8</td>\n",
       "      <td>27</td>\n",
       "      <td>€882.50m</td>\n",
       "      <td>€32.69m</td>\n",
       "      <td>€816.00m</td>\n",
       "      <td>92.5 %</td>\n",
       "    </tr>\n",
       "    <tr>\n",
       "      <th>4</th>\n",
       "      <td>Liverpool FC</td>\n",
       "      <td>Premier League</td>\n",
       "      <td>27.0</td>\n",
       "      <td>27</td>\n",
       "      <td>€879.50m</td>\n",
       "      <td>€32.57m</td>\n",
       "      <td>€810.50m</td>\n",
       "      <td>92.2 %</td>\n",
       "    </tr>\n",
       "    <tr>\n",
       "      <th>...</th>\n",
       "      <td>...</td>\n",
       "      <td>...</td>\n",
       "      <td>...</td>\n",
       "      <td>...</td>\n",
       "      <td>...</td>\n",
       "      <td>...</td>\n",
       "      <td>...</td>\n",
       "      <td>...</td>\n",
       "    </tr>\n",
       "    <tr>\n",
       "      <th>95</th>\n",
       "      <td>Clube Atlético Mineiro</td>\n",
       "      <td>Série A</td>\n",
       "      <td>26.9</td>\n",
       "      <td>31</td>\n",
       "      <td>€98.45m</td>\n",
       "      <td>€3.18m</td>\n",
       "      <td>€84.95m</td>\n",
       "      <td>86.3 %</td>\n",
       "    </tr>\n",
       "    <tr>\n",
       "      <th>96</th>\n",
       "      <td>FC Augsburg</td>\n",
       "      <td>Bundesliga</td>\n",
       "      <td>26.1</td>\n",
       "      <td>28</td>\n",
       "      <td>€97.10m</td>\n",
       "      <td>€3.47m</td>\n",
       "      <td>€88.00m</td>\n",
       "      <td>90.6 %</td>\n",
       "    </tr>\n",
       "    <tr>\n",
       "      <th>97</th>\n",
       "      <td>Lokomotiv Moscow</td>\n",
       "      <td>Premier Liga</td>\n",
       "      <td>24.8</td>\n",
       "      <td>29</td>\n",
       "      <td>€97.03m</td>\n",
       "      <td>€3.35m</td>\n",
       "      <td>€86.50m</td>\n",
       "      <td>89.2 %</td>\n",
       "    </tr>\n",
       "    <tr>\n",
       "      <th>98</th>\n",
       "      <td>Trabzonspor</td>\n",
       "      <td>Süper Lig</td>\n",
       "      <td>26.7</td>\n",
       "      <td>29</td>\n",
       "      <td>€96.30m</td>\n",
       "      <td>€3.32m</td>\n",
       "      <td>€89.00m</td>\n",
       "      <td>92.4 %</td>\n",
       "    </tr>\n",
       "    <tr>\n",
       "      <th>99</th>\n",
       "      <td>CA Osasuna</td>\n",
       "      <td>LaLiga</td>\n",
       "      <td>27.7</td>\n",
       "      <td>27</td>\n",
       "      <td>€93.50m</td>\n",
       "      <td>€3.46m</td>\n",
       "      <td>€86.60m</td>\n",
       "      <td>92.6 %</td>\n",
       "    </tr>\n",
       "  </tbody>\n",
       "</table>\n",
       "<p>100 rows × 8 columns</p>\n",
       "</div>"
      ],
      "text/plain": [
       "                      Club     Competition   Age  Squad_size Market_value  \\\n",
       "0          Manchester City  Premier League  27.2          23      €1.05bn   \n",
       "1      Paris Saint-Germain         Ligue 1  26.1          35     €997.75m   \n",
       "2        Manchester United  Premier League  28.0          28     €937.25m   \n",
       "3               Chelsea FC  Premier League  26.8          27     €882.50m   \n",
       "4             Liverpool FC  Premier League  27.0          27     €879.50m   \n",
       "..                     ...             ...   ...         ...          ...   \n",
       "95  Clube Atlético Mineiro         Série A  26.9          31      €98.45m   \n",
       "96             FC Augsburg      Bundesliga  26.1          28      €97.10m   \n",
       "97        Lokomotiv Moscow    Premier Liga  24.8          29      €97.03m   \n",
       "98             Trabzonspor       Süper Lig  26.7          29      €96.30m   \n",
       "99              CA Osasuna          LaLiga  27.7          27      €93.50m   \n",
       "\n",
       "   Market_value_of_players MV_Top_18_players Share_of_MV  \n",
       "0                  €45.75m          €988.00m      93.9 %  \n",
       "1                  €28.51m          €889.00m      89.1 %  \n",
       "2                  €33.47m          €850.00m      90.7 %  \n",
       "3                  €32.69m          €816.00m      92.5 %  \n",
       "4                  €32.57m          €810.50m      92.2 %  \n",
       "..                     ...               ...         ...  \n",
       "95                  €3.18m           €84.95m      86.3 %  \n",
       "96                  €3.47m           €88.00m      90.6 %  \n",
       "97                  €3.35m           €86.50m      89.2 %  \n",
       "98                  €3.32m           €89.00m      92.4 %  \n",
       "99                  €3.46m           €86.60m      92.6 %  \n",
       "\n",
       "[100 rows x 8 columns]"
      ]
     },
     "metadata": {},
     "output_type": "display_data"
    },
    {
     "name": "stdout",
     "output_type": "stream",
     "text": [
      "=== PRUEBAS BÁSICAS DE CALIDAD DE DATOS ===\n",
      "1. Dimensiones: (100, 8)\n",
      "2. Tipos de datos:\n",
      "Club                        object\n",
      "Competition                 object\n",
      "Age                        float64\n",
      "Squad_size                   int64\n",
      "Market_value                object\n",
      "Market_value_of_players     object\n",
      "MV_Top_18_players           object\n",
      "Share_of_MV                 object\n",
      "dtype: object\n",
      "\n",
      "3. colum_valueES FALTANTES:\n",
      "Empty DataFrame\n",
      "Columns: [colum_valuees_Faltantes, Porcentaje]\n",
      "Index: []\n",
      "\n",
      "4. FILAS DUPLICADAS:\n",
      "   Total duplicados: 0\n",
      "   Porcentaje duplicados: 0.00%\n",
      "\n",
      "5. colum_valueES ÚNICOS POR column_name:\n",
      "   Club: 100 colum_valuees únicos\n",
      "   Competition: 16 colum_valuees únicos\n",
      "   Age: 46 colum_valuees únicos\n",
      "   Squad_size: 15 colum_valuees únicos\n",
      "   Market_value: 99 colum_valuees únicos\n",
      "   Market_value_of_players: 94 colum_valuees únicos\n",
      "   MV_Top_18_players: 99 colum_valuees únicos\n",
      "   Share_of_MV: 65 colum_valuees únicos\n"
     ]
    }
   ],
   "source": [
    "def basic_data_quality_check(data):\n",
    "    \"\"\"\n",
    "    Pruebas básicas de calidad de datos\n",
    "    \"\"\"\n",
    "    print(\"=== PRUEBAS BÁSICAS DE CALIDAD DE DATOS ===\")\n",
    "    \n",
    "    # 1. Información general\n",
    "    print(f\"1. Dimensiones: {data.shape}\")\n",
    "    print(f\"2. Tipos de datos:\\n{data.dtypes}\")\n",
    "    \n",
    "    # 3. colum_valuees faltantes\n",
    "    print(f\"\\n3. colum_valueES FALTANTES:\")\n",
    "    missing_data = data.isnull().sum()\n",
    "    missing_percent = (missing_data / len(data)) * 100\n",
    "    missing_info = pd.DataFrame({\n",
    "        'colum_valuees_Faltantes': missing_data,\n",
    "        'Porcentaje': missing_percent\n",
    "    })\n",
    "    print(missing_info[missing_info['colum_valuees_Faltantes'] > 0])\n",
    "    \n",
    "    # 4. colum_valuees duplicados\n",
    "    print(f\"\\n4. FILAS DUPLICADAS:\")\n",
    "    duplicates = data.duplicated().sum()\n",
    "    print(f\"   Total duplicados: {duplicates}\")\n",
    "    print(f\"   Porcentaje duplicados: {(duplicates/len(data))*100:.2f}%\")\n",
    "    \n",
    "    # 5. colum_valuees únicos por column_name\n",
    "    print(f\"\\n5. colum_valueES ÚNICOS POR column_name:\")\n",
    "    for col in data.columns:\n",
    "        unique_count = data[col].nunique()\n",
    "        print(f\"   {col}: {unique_count} colum_valuees únicos\")\n",
    "    \n",
    "    return {\n",
    "        'dimensions': data.shape,\n",
    "        'missing_data': missing_info,\n",
    "        'duplicates': duplicates,\n",
    "        'unique_counts': {col: data[col].nunique() for col in data.columns}\n",
    "    }\n",
    "\n",
    "# Uso\n",
    "data = pd.read_csv('equipos-de-futbol.csv')\n",
    "display(data)\n",
    "results = basic_data_quality_check(data)"
   ]
  },
  {
   "cell_type": "code",
   "execution_count": 12,
   "id": "b4202fdb-26a4-46fc-8efa-8e3163cc2037",
   "metadata": {},
   "outputs": [
    {
     "data": {
      "text/html": [
       "<div>\n",
       "<style scoped>\n",
       "    .dataframe tbody tr th:only-of-type {\n",
       "        vertical-align: middle;\n",
       "    }\n",
       "\n",
       "    .dataframe tbody tr th {\n",
       "        vertical-align: top;\n",
       "    }\n",
       "\n",
       "    .dataframe thead th {\n",
       "        text-align: right;\n",
       "    }\n",
       "</style>\n",
       "<table border=\"1\" class=\"dataframe\">\n",
       "  <thead>\n",
       "    <tr style=\"text-align: right;\">\n",
       "      <th></th>\n",
       "      <th>Club</th>\n",
       "      <th>Competition</th>\n",
       "      <th>Age</th>\n",
       "      <th>Squad_size</th>\n",
       "      <th>Market_value</th>\n",
       "      <th>Market_value_of_players</th>\n",
       "      <th>MV_Top_18_players</th>\n",
       "      <th>Share_of_MV</th>\n",
       "    </tr>\n",
       "  </thead>\n",
       "  <tbody>\n",
       "    <tr>\n",
       "      <th>0</th>\n",
       "      <td>Manchester City</td>\n",
       "      <td>Premier League</td>\n",
       "      <td>27.2</td>\n",
       "      <td>23</td>\n",
       "      <td>1050.00</td>\n",
       "      <td>45.75</td>\n",
       "      <td>988.00</td>\n",
       "      <td>0.939</td>\n",
       "    </tr>\n",
       "    <tr>\n",
       "      <th>1</th>\n",
       "      <td>Paris Saint-Germain</td>\n",
       "      <td>Ligue 1</td>\n",
       "      <td>26.1</td>\n",
       "      <td>35</td>\n",
       "      <td>997.75</td>\n",
       "      <td>28.51</td>\n",
       "      <td>889.00</td>\n",
       "      <td>0.891</td>\n",
       "    </tr>\n",
       "    <tr>\n",
       "      <th>2</th>\n",
       "      <td>Manchester United</td>\n",
       "      <td>Premier League</td>\n",
       "      <td>28.0</td>\n",
       "      <td>28</td>\n",
       "      <td>937.25</td>\n",
       "      <td>33.47</td>\n",
       "      <td>850.00</td>\n",
       "      <td>0.907</td>\n",
       "    </tr>\n",
       "    <tr>\n",
       "      <th>3</th>\n",
       "      <td>Chelsea FC</td>\n",
       "      <td>Premier League</td>\n",
       "      <td>26.8</td>\n",
       "      <td>27</td>\n",
       "      <td>882.50</td>\n",
       "      <td>32.69</td>\n",
       "      <td>816.00</td>\n",
       "      <td>0.925</td>\n",
       "    </tr>\n",
       "    <tr>\n",
       "      <th>4</th>\n",
       "      <td>Liverpool FC</td>\n",
       "      <td>Premier League</td>\n",
       "      <td>27.0</td>\n",
       "      <td>27</td>\n",
       "      <td>879.50</td>\n",
       "      <td>32.57</td>\n",
       "      <td>810.50</td>\n",
       "      <td>0.922</td>\n",
       "    </tr>\n",
       "    <tr>\n",
       "      <th>...</th>\n",
       "      <td>...</td>\n",
       "      <td>...</td>\n",
       "      <td>...</td>\n",
       "      <td>...</td>\n",
       "      <td>...</td>\n",
       "      <td>...</td>\n",
       "      <td>...</td>\n",
       "      <td>...</td>\n",
       "    </tr>\n",
       "    <tr>\n",
       "      <th>95</th>\n",
       "      <td>Clube Atlético Mineiro</td>\n",
       "      <td>Série A</td>\n",
       "      <td>26.9</td>\n",
       "      <td>31</td>\n",
       "      <td>98.45</td>\n",
       "      <td>3.18</td>\n",
       "      <td>84.95</td>\n",
       "      <td>0.863</td>\n",
       "    </tr>\n",
       "    <tr>\n",
       "      <th>96</th>\n",
       "      <td>FC Augsburg</td>\n",
       "      <td>Bundesliga</td>\n",
       "      <td>26.1</td>\n",
       "      <td>28</td>\n",
       "      <td>97.10</td>\n",
       "      <td>3.47</td>\n",
       "      <td>88.00</td>\n",
       "      <td>0.906</td>\n",
       "    </tr>\n",
       "    <tr>\n",
       "      <th>97</th>\n",
       "      <td>Lokomotiv Moscow</td>\n",
       "      <td>Premier Liga</td>\n",
       "      <td>24.8</td>\n",
       "      <td>29</td>\n",
       "      <td>97.03</td>\n",
       "      <td>3.35</td>\n",
       "      <td>86.50</td>\n",
       "      <td>0.892</td>\n",
       "    </tr>\n",
       "    <tr>\n",
       "      <th>98</th>\n",
       "      <td>Trabzonspor</td>\n",
       "      <td>Süper Lig</td>\n",
       "      <td>26.7</td>\n",
       "      <td>29</td>\n",
       "      <td>96.30</td>\n",
       "      <td>3.32</td>\n",
       "      <td>89.00</td>\n",
       "      <td>0.924</td>\n",
       "    </tr>\n",
       "    <tr>\n",
       "      <th>99</th>\n",
       "      <td>CA Osasuna</td>\n",
       "      <td>LaLiga</td>\n",
       "      <td>27.7</td>\n",
       "      <td>27</td>\n",
       "      <td>93.50</td>\n",
       "      <td>3.46</td>\n",
       "      <td>86.60</td>\n",
       "      <td>0.926</td>\n",
       "    </tr>\n",
       "  </tbody>\n",
       "</table>\n",
       "<p>100 rows × 8 columns</p>\n",
       "</div>"
      ],
      "text/plain": [
       "                      Club     Competition   Age  Squad_size  Market_value  \\\n",
       "0          Manchester City  Premier League  27.2          23       1050.00   \n",
       "1      Paris Saint-Germain         Ligue 1  26.1          35        997.75   \n",
       "2        Manchester United  Premier League  28.0          28        937.25   \n",
       "3               Chelsea FC  Premier League  26.8          27        882.50   \n",
       "4             Liverpool FC  Premier League  27.0          27        879.50   \n",
       "..                     ...             ...   ...         ...           ...   \n",
       "95  Clube Atlético Mineiro         Série A  26.9          31         98.45   \n",
       "96             FC Augsburg      Bundesliga  26.1          28         97.10   \n",
       "97        Lokomotiv Moscow    Premier Liga  24.8          29         97.03   \n",
       "98             Trabzonspor       Süper Lig  26.7          29         96.30   \n",
       "99              CA Osasuna          LaLiga  27.7          27         93.50   \n",
       "\n",
       "    Market_value_of_players  MV_Top_18_players  Share_of_MV  \n",
       "0                     45.75             988.00        0.939  \n",
       "1                     28.51             889.00        0.891  \n",
       "2                     33.47             850.00        0.907  \n",
       "3                     32.69             816.00        0.925  \n",
       "4                     32.57             810.50        0.922  \n",
       "..                      ...                ...          ...  \n",
       "95                     3.18              84.95        0.863  \n",
       "96                     3.47              88.00        0.906  \n",
       "97                     3.35              86.50        0.892  \n",
       "98                     3.32              89.00        0.924  \n",
       "99                     3.46              86.60        0.926  \n",
       "\n",
       "[100 rows x 8 columns]"
      ]
     },
     "metadata": {},
     "output_type": "display_data"
    }
   ],
   "source": [
    "# Market_value --> eliminar € y m , pasar bn a m \n",
    "# Market_value_of_players --> eliminar € y m , pasar bn a m \n",
    "# MV_Top_18_players --> eliminar € y m , pasar bn a m \n",
    "# Share_of_MV --> eliminar el % y pasarlo a decimal \n",
    "map_data_column_names = [ \"Market_value\", \"Market_value_of_players\", \"MV_Top_18_players\", \"Share_of_MV\" ]\n",
    "\n",
    "# Leer datos\n",
    "def convert_column_value(colum_value):\n",
    "        if pd.isna(colum_value) or colum_value == '':\n",
    "            return np.nan\n",
    "        \n",
    "        colum_value_str = str(colum_value).strip().lower()\n",
    "        \n",
    "        # Remover símbolos de moneda y espacios\n",
    "        colum_value_str = re.sub(r'[\\$€£¥bnm%, ]', '', colum_value_str)\n",
    "        \n",
    "        # Buscar multiplicadores (bn, %)\n",
    "        multiplicador = 1\n",
    "        if colum_value.endswith('bn'):\n",
    "            multiplicador = 1000\n",
    "            colum_value_str = float(colum_value_str) * 1000\n",
    "        elif colum_value.endswith('%'):\n",
    "            divisor = 100 \n",
    "            colum_value_str = float(colum_value_str) / divisor\n",
    "\n",
    "        try:\n",
    "            number = float(colum_value_str)\n",
    "            return number\n",
    "        except ValueError:\n",
    "            return np.nan\n",
    "            \n",
    "def clean_column_values(data, columns):\n",
    "    data_converter = data.copy()\n",
    "    for i in range(len(columns)):\n",
    "        column_name = columns[i]\n",
    "        data_converter = data_converter.drop(columns=[column_name])\n",
    "        data_converter[f'{column_name}'] = data[column_name].apply(convert_column_value)\n",
    "        \n",
    "    \n",
    "    return data_converter\n",
    "\n",
    "# Uso\n",
    "data = clean_column_values(data, map_data_column_names)\n",
    "display(data)"
   ]
  },
  {
   "cell_type": "code",
   "execution_count": 13,
   "id": "0571592f-77bf-402a-a7e0-3756ec3778ef",
   "metadata": {},
   "outputs": [
    {
     "data": {
      "text/html": [
       "<div>\n",
       "<style scoped>\n",
       "    .dataframe tbody tr th:only-of-type {\n",
       "        vertical-align: middle;\n",
       "    }\n",
       "\n",
       "    .dataframe tbody tr th {\n",
       "        vertical-align: top;\n",
       "    }\n",
       "\n",
       "    .dataframe thead th {\n",
       "        text-align: right;\n",
       "    }\n",
       "</style>\n",
       "<table border=\"1\" class=\"dataframe\">\n",
       "  <thead>\n",
       "    <tr style=\"text-align: right;\">\n",
       "      <th></th>\n",
       "      <th>Club</th>\n",
       "      <th>Competition</th>\n",
       "      <th>Age</th>\n",
       "      <th>Squad_size</th>\n",
       "      <th>Market_value</th>\n",
       "      <th>Market_value_of_players</th>\n",
       "      <th>MV_Top_18_players</th>\n",
       "      <th>Share_of_MV</th>\n",
       "    </tr>\n",
       "  </thead>\n",
       "  <tbody>\n",
       "    <tr>\n",
       "      <th>0</th>\n",
       "      <td>Manchester City</td>\n",
       "      <td>Premier League</td>\n",
       "      <td>27.2</td>\n",
       "      <td>23</td>\n",
       "      <td>1050.0</td>\n",
       "      <td>45.75</td>\n",
       "      <td>988.0</td>\n",
       "      <td>0.939</td>\n",
       "    </tr>\n",
       "  </tbody>\n",
       "</table>\n",
       "</div>"
      ],
      "text/plain": [
       "              Club     Competition   Age  Squad_size  Market_value  \\\n",
       "0  Manchester City  Premier League  27.2          23        1050.0   \n",
       "\n",
       "   Market_value_of_players  MV_Top_18_players  Share_of_MV  \n",
       "0                    45.75              988.0        0.939  "
      ]
     },
     "metadata": {},
     "output_type": "display_data"
    }
   ],
   "source": [
    "display(data.head(1))"
   ]
  },
  {
   "cell_type": "markdown",
   "id": "bdca8c5a-36b2-41e3-b61f-407db0f2bbdc",
   "metadata": {},
   "source": [
    "### Medidas de tendencia central ( sobre cada column_name númerica )\n",
    "#### media \n",
    "#### mediana \n",
    "#### moda"
   ]
  },
  {
   "cell_type": "code",
   "execution_count": 14,
   "id": "b244df64-abf3-49cb-97c7-37b7486fb8c3",
   "metadata": {},
   "outputs": [
    {
     "name": "stdout",
     "output_type": "stream",
     "text": [
      "             Age  Squad_size  Market_value  Market_value_of_players  \\\n",
      "count  100.00000   100.00000     100.00000               100.000000   \n",
      "mean    26.30800    27.54000     292.69270                10.852200   \n",
      "std      1.39499     2.87244     230.95511                 8.848602   \n",
      "min     23.10000    21.00000      93.50000                 2.920000   \n",
      "25%     25.40000    26.00000     126.62500                 4.695000   \n",
      "50%     26.25000    27.00000     202.92500                 7.570000   \n",
      "75%     27.42500    29.00000     359.18750                13.922500   \n",
      "max     29.90000    35.00000    1050.00000                45.750000   \n",
      "\n",
      "       MV_Top_18_players  Share_of_MV  \n",
      "count         100.000000   100.000000  \n",
      "mean          270.750800     0.924180  \n",
      "std           213.423125     0.030104  \n",
      "min            84.950000     0.837000  \n",
      "25%           118.250000     0.905750  \n",
      "50%           185.450000     0.924000  \n",
      "75%           344.750000     0.950250  \n",
      "max           988.000000     0.986000  \n",
      "Index(['Club', 'Competition'], dtype='object')\n",
      "Index(['Age', 'Squad_size', 'Market_value', 'Market_value_of_players',\n",
      "       'MV_Top_18_players', 'Share_of_MV'],\n",
      "      dtype='object')\n"
     ]
    }
   ],
   "source": [
    "print(data.describe())\n",
    "print(data.select_dtypes(include=[\"object\"]).columns)\n",
    "numeric_columns = data.select_dtypes(include=[np.number]).columns\n",
    "print(numeric_columns)"
   ]
  },
  {
   "cell_type": "markdown",
   "id": "0f5726c9-0527-4e65-b543-f4ab83634023",
   "metadata": {},
   "source": [
    "### Histogramas para datos no númerico"
   ]
  },
  {
   "cell_type": "code",
   "execution_count": 15,
   "id": "73b1597b-1c90-4e3c-8739-3a781785c4a3",
   "metadata": {},
   "outputs": [
    {
     "name": "stdout",
     "output_type": "stream",
     "text": [
      "columns categóricas encontradas: ['Competition']\n"
     ]
    },
    {
     "data": {
      "image/png": "[encoded data removed]",
      "text/plain": [
       "<Figure size 500x600 with 1 Axes>"
      ]
     },
     "metadata": {},
     "output_type": "display_data"
    }
   ],
   "source": [
    "def histograma_categoricas_basico(data, columns_categoricas):\n",
    "    \"\"\"\n",
    "    Crear gráficos de barras para columns categóricas\n",
    "    \"\"\"\n",
    "    # Seleccionar columns categóricas\n",
    "    # columns_categoricas = data.select_dtypes(include=['object', 'category']).columns\n",
    "    \n",
    "    print(f\"columns categóricas encontradas: {list(columns_categoricas)}\")\n",
    "    \n",
    "    # Crear subplots\n",
    "    n_cols = len(columns_categoricas)\n",
    "    fig, axes = plt.subplots(1, n_cols, figsize=(5*n_cols, 6))\n",
    "    \n",
    "    if n_cols == 1:\n",
    "        axes = [axes]\n",
    "    \n",
    "    for i, column_name in enumerate(columns_categoricas):\n",
    "        # Contar frecuencias\n",
    "        frecuencias = data[column_name].value_counts()\n",
    "        \n",
    "        # Crear gráfico de barras\n",
    "        axes[i].bar(range(len(frecuencias)), frecuencias.values)\n",
    "        axes[i].set_title(f'Distribución de {column_name}')\n",
    "        axes[i].set_xlabel(column_name)\n",
    "        axes[i].set_ylabel('Frecuencia')\n",
    "        axes[i].set_xticks(range(len(frecuencias)))\n",
    "        axes[i].set_xticklabels(frecuencias.index, rotation=45)\n",
    "        \n",
    "        # Agregar colum_valuees en las barras\n",
    "        for j, v in enumerate(frecuencias.values):\n",
    "            axes[i].text(j, v + max(frecuencias.values)*0.01, str(v), \n",
    "                        ha='center', va='bottom')\n",
    "\n",
    "    plt.tight_layout()\n",
    "    plt.show()\n",
    "\n",
    "# Uso\n",
    "histograma_categoricas_basico(data, [\"Competition\"])"
   ]
  },
  {
   "cell_type": "markdown",
   "id": "e035bc49-3fab-4023-95b2-874ff18e4c3f",
   "metadata": {},
   "source": [
    "### Outliers \n",
    "#### Diagrama de cajas y bigotes"
   ]
  },
  {
   "cell_type": "code",
   "execution_count": 16,
   "id": "3d5fa649-a2a5-4ddd-bdce-97d50253294c",
   "metadata": {},
   "outputs": [
    {
     "name": "stderr",
     "output_type": "stream",
     "text": [
      "/var/folders/fq/6vkst89d5550c5mvxvvytqh80000gn/T/ipykernel_79073/2904890415.py:12: MatplotlibDeprecationWarning: The 'labels' parameter of boxplot() has been renamed 'tick_labels' since Matplotlib 3.9; support for the old name will be dropped in 3.11.\n",
      "  plt.boxplot([data[col].dropna() for col in columns_numericas],\n"
     ]
    },
    {
     "data": {
      "image/png": "[encoded data removed]",
      "text/plain": [
       "<Figure size 1200x600 with 1 Axes>"
      ]
     },
     "metadata": {},
     "output_type": "display_data"
    }
   ],
   "source": [
    "def boxplot_matplotlib(data):\n",
    "    \"\"\"\n",
    "    Crear diagrama de cajas y bigotes con matplotlib\n",
    "    \"\"\"\n",
    "    # Seleccionar columns numéricas\n",
    "    columns_numericas = data.select_dtypes(include=[np.number]).columns\n",
    "    \n",
    "    # Crear figura\n",
    "    plt.figure(figsize=(12, 6))\n",
    "    \n",
    "    # Crear boxplot\n",
    "    plt.boxplot([data[col].dropna() for col in columns_numericas], \n",
    "                labels=columns_numericas)\n",
    "    \n",
    "    plt.title('Diagrama de Cajas y Bigotes')\n",
    "    plt.ylabel('colum_valuees')\n",
    "    plt.xlabel('Variables')\n",
    "    plt.xticks(rotation=45)\n",
    "    plt.grid(True, alpha=0.3)\n",
    "    \n",
    "    plt.tight_layout()\n",
    "    plt.show()\n",
    "\n",
    "# Uso\n",
    "boxplot_matplotlib(data)"
   ]
  },
  {
   "cell_type": "code",
   "execution_count": 17,
   "id": "88949c2d-410e-473e-9d9e-3b1dffae3f89",
   "metadata": {},
   "outputs": [
    {
     "data": {
      "text/plain": [
       "<Axes: >"
      ]
     },
     "execution_count": 17,
     "metadata": {},
     "output_type": "execute_result"
    },
    {
     "data": {
      "image/png": "[encoded data removed]",
      "text/plain": [
       "<Figure size 640x480 with 1 Axes>"
      ]
     },
     "metadata": {},
     "output_type": "display_data"
    }
   ],
   "source": [
    "data[\"Age\"].hist()"
   ]
  },
  {
   "cell_type": "code",
   "execution_count": 18,
   "id": "c78b70dd-58ed-4722-9285-ad183f1953c7",
   "metadata": {},
   "outputs": [
    {
     "data": {
      "text/plain": [
       "<Axes: xlabel='Age'>"
      ]
     },
     "execution_count": 18,
     "metadata": {},
     "output_type": "execute_result"
    },
    {
     "data": {
      "image/png": "[encoded data removed]",
      "text/plain": [
       "<Figure size 640x480 with 1 Axes>"
      ]
     },
     "metadata": {},
     "output_type": "display_data"
    }
   ],
   "source": [
    "sbl.boxplot(x=data[\"Age\"])"
   ]
  },
  {
   "cell_type": "code",
   "execution_count": 19,
   "id": "44433bbd-94dd-4ef3-ade0-5322a802214d",
   "metadata": {},
   "outputs": [
    {
     "data": {
      "text/plain": [
       "<Axes: xlabel='Squad_size'>"
      ]
     },
     "execution_count": 19,
     "metadata": {},
     "output_type": "execute_result"
    },
    {
     "data": {
      "image/png": "[encoded data removed]",
      "text/plain": [
       "<Figure size 640x480 with 1 Axes>"
      ]
     },
     "metadata": {},
     "output_type": "display_data"
    }
   ],
   "source": [
    "sbl.boxplot(x=data[\"Squad_size\"])"
   ]
  },
  {
   "cell_type": "code",
   "execution_count": 20,
   "id": "f8890ae8-5e60-44d9-ad54-245fa8b551bc",
   "metadata": {},
   "outputs": [
    {
     "data": {
      "text/plain": [
       "<Axes: xlabel='Market_value'>"
      ]
     },
     "execution_count": 20,
     "metadata": {},
     "output_type": "execute_result"
    },
    {
     "data": {
      "image/png": "[encoded data removed]",
      "text/plain": [
       "<Figure size 640x480 with 1 Axes>"
      ]
     },
     "metadata": {},
     "output_type": "display_data"
    }
   ],
   "source": [
    "sbl.boxplot(x=data[\"Market_value\"])"
   ]
  },
  {
   "cell_type": "code",
   "execution_count": 21,
   "id": "260b7a4e-8f66-44b0-b518-7bdeb955a634",
   "metadata": {},
   "outputs": [
    {
     "data": {
      "text/plain": [
       "<Axes: xlabel='Market_value_of_players'>"
      ]
     },
     "execution_count": 21,
     "metadata": {},
     "output_type": "execute_result"
    },
    {
     "data": {
      "image/png": "[encoded data removed]",
      "text/plain": [
       "<Figure size 640x480 with 1 Axes>"
      ]
     },
     "metadata": {},
     "output_type": "display_data"
    }
   ],
   "source": [
    "sbl.boxplot(x=data[\"Market_value_of_players\"])"
   ]
  },
  {
   "cell_type": "code",
   "execution_count": 22,
   "id": "2a276e82-a46a-413d-95bd-e9d53b8647c8",
   "metadata": {},
   "outputs": [
    {
     "data": {
      "text/plain": [
       "<Axes: xlabel='MV_Top_18_players'>"
      ]
     },
     "execution_count": 22,
     "metadata": {},
     "output_type": "execute_result"
    },
    {
     "data": {
      "image/png": "[encoded data removed]",
      "text/plain": [
       "<Figure size 640x480 with 1 Axes>"
      ]
     },
     "metadata": {},
     "output_type": "display_data"
    }
   ],
   "source": [
    "sbl.boxplot(x=data[\"MV_Top_18_players\"])"
   ]
  },
  {
   "cell_type": "code",
   "execution_count": 23,
   "id": "6fd85441-d58b-40b2-90f2-b2e2da44fdd6",
   "metadata": {},
   "outputs": [
    {
     "data": {
      "text/plain": [
       "<Axes: xlabel='Share_of_MV'>"
      ]
     },
     "execution_count": 23,
     "metadata": {},
     "output_type": "execute_result"
    },
    {
     "data": {
      "image/png": "[encoded data removed]",
      "text/plain": [
       "<Figure size 640x480 with 1 Axes>"
      ]
     },
     "metadata": {},
     "output_type": "display_data"
    }
   ],
   "source": [
    "sbl.boxplot(x=data[\"Share_of_MV\"])"
   ]
  },
  {
   "cell_type": "code",
   "execution_count": null,
   "id": "a7358fe2-9057-49e5-b947-2eaf221b522f",
   "metadata": {},
   "outputs": [],
   "source": []
  },
  {
   "cell_type": "code",
   "execution_count": null,
   "id": "561d7d0d-7190-45fe-beaf-3f6cae7943c0",
   "metadata": {},
   "outputs": [],
   "source": []
  },
  {
   "cell_type": "code",
   "execution_count": null,
   "id": "4318ac8f-047e-4158-a4ae-f72798140ff3",
   "metadata": {},
   "outputs": [],
   "source": []
  },
  {
   "cell_type": "code",
   "execution_count": null,
   "id": "f4efc82d-08d7-4f9e-8c91-d5418bf22553",
   "metadata": {},
   "outputs": [],
   "source": []
  },
  {
   "cell_type": "code",
   "execution_count": null,
   "id": "a01b9326-f9ea-4259-8da2-22d5e67ba39a",
   "metadata": {},
   "outputs": [],
   "source": []
  }
 ],
 "metadata": {
  "kernelspec": {
   "display_name": "Python 3 (ipykernel)",
   "language": "python",
   "name": "python3"
  },
  "language_info": {
   "codemirror_mode": {
    "name": "ipython",
    "version": 3
   },
   "file_extension": ".py",
   "mimetype": "text/x-python",
   "name": "python",
   "nbconvert_exporter": "python",
   "pygments_lexer": "ipython3",
   "version": "3.12.4"
  }
 },
 "nbformat": 4,
 "nbformat_minor": 5
}
